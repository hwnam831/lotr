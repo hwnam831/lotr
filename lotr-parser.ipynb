{
 "cells": [
  {
   "cell_type": "code",
   "execution_count": null,
   "metadata": {},
   "outputs": [],
   "source": [
    "import os\n",
    "import os\n",
    "import numpy as np\n",
    "import pickle\n",
    "import re\n",
    "import time\n",
    "datadir = '04-crypto-sc/data/'\n",
    "victim='eddsa'"
   ]
  },
  {
   "cell_type": "code",
   "execution_count": null,
   "metadata": {},
   "outputs": [],
   "source": [
    "onefiles = os.listdir(datadir + victim + '-1-parsed')\n",
    "onelist = []\n",
    "for fname in onefiles:\n",
    "    with open(datadir + victim + '-1-parsed/' + fname, 'r') as f:\n",
    "        onelist.append([int(n) for n in f])\n",
    "print(len(onelist))\n",
    "onethreshold = np.percentile(np.array([len(l) for l in onelist]),0.3)\n",
    "\n",
    "zerofiles = os.listdir(datadir + victim + '-0-parsed')\n",
    "zerolist = []\n",
    "for fname in zerofiles:\n",
    "    with open(datadir + victim + '-0-parsed/' + fname, 'r') as f:\n",
    "        zerolist.append([int(n) for n in f])\n",
    "print(len(zerolist))\n",
    "zerothreshold = np.percentile(np.array([len(l) for l in zerolist]),0.3)\n",
    "print((onethreshold, zerothreshold))"
   ]
  },
  {
   "cell_type": "code",
   "execution_count": null,
   "metadata": {},
   "outputs": [],
   "source": [
    "threshold = int(min(zerothreshold, onethreshold))\n",
    "newzero = [z for z in zerolist if len(z) >= threshold]\n",
    "newone = [o for o in onelist if len(o) >= threshold]\n",
    "dsize = min((len(newzero),len(newone)))\n",
    "x_arr = np.zeros([dsize*2, threshold],dtype=np.float32)\n",
    "y_arr = np.arange(dsize*2)%2\n",
    "for i in range(dsize):\n",
    "    x_arr[2*i] = newzero[i][:threshold]\n",
    "    x_arr[2*i+1] = newone[i][:threshold]\n",
    "print(x_arr.shape)"
   ]
  },
  {
   "cell_type": "code",
   "execution_count": null,
   "metadata": {},
   "outputs": [],
   "source": [
    "std = 16\n",
    "mean = np.median(x_arr)\n",
    "x_arr2 = (x_arr-mean)/std\n",
    "print((mean,))"
   ]
  },
  {
   "cell_type": "code",
   "execution_count": null,
   "metadata": {},
   "outputs": [],
   "source": [
    "valcut = len(x_arr)*6 //10\n",
    "testcut = len(x_arr) * 9 // 10\n",
    "train_x = x_arr2[:valcut]\n",
    "train_y = y_arr[:valcut]\n",
    "valid_x = x_arr2[valcut:testcut]\n",
    "valid_y = y_arr[valcut:testcut]\n",
    "test_x = x_arr2[testcut:]\n",
    "test_y = y_arr[testcut:]\n",
    "from sklearn import svm\n",
    "clf = svm.SVC(kernel='rbf',gamma='auto', C=1)\n",
    "\n",
    "clf.fit(train_x, train_y)\n",
    "pred_y = clf.predict(valid_x)\n",
    "#tpred_y = clf.predict(train_x)\n",
    "(pred_y == valid_y).sum()/len(pred_y)"
   ]
  },
  {
   "cell_type": "code",
   "execution_count": null,
   "metadata": {},
   "outputs": [],
   "source": [
    "if os.path.isfile(victim + \".pkl\"):\n",
    "    x_arr_old, y_arr_old = pickle.load(open(victim + \".pkl\",'rb'))\n",
    "    newlen = min(x_arr_old.shape[1], x_arr.shape[1])\n",
    "    print(\"Old tracelen {}, new tracelen {}\".format(x_arr_old.shape[1], newlen))\n",
    "    x_arr_new = np.concatenate([x_arr_old[:,:newlen], x_arr[:,:newlen]], axis=0)\n",
    "    y_arr_new = np.concatenate([y_arr_old, y_arr])\n",
    "else:\n",
    "    x_arr_new = x_arr\n",
    "    y_arr_new = y_arr\n",
    "print(\"total num traces: \" + str(len(y_arr_new)))\n",
    "traincut = len(x_arr_new)*6 //10\n",
    "valcut = len(x_arr_new) * 9 // 10\n",
    "pickle.dump((x_arr_new, y_arr_new), open(victim + \".pkl\", \"wb\"))\n",
    "pickle.dump((x_arr_new[:traincut], y_arr_new[:traincut]), open(victim + \"_train.pkl\", \"wb\"))\n",
    "pickle.dump((x_arr_new[traincut:valcut], y_arr_new[traincut:valcut]), open(victim + \"_valid.pkl\", \"wb\"))\n",
    "pickle.dump((x_arr_new[valcut:], y_arr_new[valcut:]), open(victim + \"_test.pkl\", \"wb\"))"
   ]
  },
  {
   "cell_type": "code",
   "execution_count": null,
   "metadata": {},
   "outputs": [],
   "source": [
    "valcut\n",
    "\n"
   ]
  }
 ],
 "metadata": {
  "kernelspec": {
   "display_name": "torch",
   "language": "python",
   "name": "python3"
  },
  "language_info": {
   "codemirror_mode": {
    "name": "ipython",
    "version": 3
   },
   "file_extension": ".py",
   "mimetype": "text/x-python",
   "name": "python",
   "nbconvert_exporter": "python",
   "pygments_lexer": "ipython3",
   "version": "3.10.6"
  },
  "orig_nbformat": 4,
  "vscode": {
   "interpreter": {
    "hash": "2657186c0a85c2e6baa4c072599c792136a86a2a4c2021b8710be0ae7329b2e9"
   }
  }
 },
 "nbformat": 4,
 "nbformat_minor": 2
}
